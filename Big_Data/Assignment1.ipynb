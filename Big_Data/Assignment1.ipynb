{
 "cells": [
  {
   "cell_type": "markdown",
   "metadata": {
    "id": "qG2Hx9h2ae6s"
   },
   "source": [
    "# Assignment 1"
   ]
  },
  {
   "cell_type": "markdown",
   "metadata": {
    "id": "gQVAW-Tiae6u"
   },
   "source": [
    "Make sure you run your code before saving and submitting so that the output can be easily checked."
   ]
  },
  {
   "cell_type": "markdown",
   "metadata": {
    "id": "A82JPzsTae6v"
   },
   "source": [
    "## Problems"
   ]
  },
  {
   "cell_type": "markdown",
   "metadata": {
    "id": "MY36UH9lae6v"
   },
   "source": [
    "### Week 1"
   ]
  },
  {
   "cell_type": "markdown",
   "metadata": {
    "id": "ckBmCwrCae6v"
   },
   "source": [
    ">**Ex 1.1.12**: Take another list `b = list(\"ofcourseistillloveyou\")` and\n",
    "1. get the `set` of characters that exist in both `a` and `b` (intersection),\n",
    "2. get the `set` of characters that exist in either `a` or `b` (union), and\n",
    "3. compute the [Jaccard similarity](https://en.wikipedia.org/wiki/Jaccard_index) between the distinct elements in `a` and `b`.\n",
    ">\n",
    ">*Hint: use the `set` function to get a `set`-type object of distinct elements from a list. Sets supports a [number of different operations](https://snakify.org/en/lessons/sets/#section_4).*"
   ]
  },
  {
   "cell_type": "markdown",
   "metadata": {
    "id": "DQkBgS4dR0of"
   },
   "source": [
    "1.1.12 **SOLUTIONS**"
   ]
  },
  {
   "cell_type": "code",
   "execution_count": 1,
   "metadata": {
    "colab": {
     "base_uri": "https://localhost:8080/"
    },
    "id": "DEellDUfae6v",
    "outputId": "93fc289a-fa70-4196-9d48-22d635ed4014"
   },
   "outputs": [
    {
     "name": "stdout",
     "output_type": "stream",
     "text": [
      "0.47058823529411764\n"
     ]
    }
   ],
   "source": [
    "a = list(\"justreadtheinstructions\")\n",
    "b = list(\"ofcourseistillloveyou\")\n",
    "inter = set(a).intersection(set(b))\n",
    "union = set(a).union(set(b))\n",
    "jacc = len(inter)/len(union)\n",
    "print(jacc)"
   ]
  },
  {
   "cell_type": "markdown",
   "metadata": {
    "id": "e7eOgw3cae6w"
   },
   "source": [
    ">**Ex. 1.2.4**: The URL reveals that the data is from reddit/r/gameofthrones, but can you recover that information from the data? Give your answer by 'keying' into the dictionary using square brackets.\n",
    ">\n",
    ">*Hint: 'Keying' is a word i just made up. By it, I mean the following. Consider a nested dictionary like:*\n",
    ">\n",
    ">        my_json_obj = {\n",
    ">            'cats': {\n",
    ">                'awesome': ['Missy'],\n",
    ">                'useless': ['Kim', 'Frank', 'Sandy']\n",
    ">            },\n",
    ">            'dogs': {\n",
    ">                'awesome': ['Finn', 'Dolores', 'Fido', 'Casper'],\n",
    ">                'useless': []\n",
    ">            }\n",
    ">        }\n",
    ">\n",
    ">*I can get the list of useless cats by keying into `my_json_obj` like such:*\n",
    ">\n",
    ">        >>> my_json_obj['cats']['useless']\n",
    ">        Out [ ]: ['Kim', 'Frank', 'Sandy']\n",
    ">\n",
    ">*`my_json_obj['cats']` returns the dictionary `{'awesome': ['Missy'], 'useless': ['Kim', 'Frank', 'Sandy']}` and getting '`useless`' from that eventually gives us `['Kim', 'Frank', 'Sandy']`. If any of those list items were a list of a dictionary themselves, we could have kept keying deeper into the structure.*"
   ]
  },
  {
   "cell_type": "markdown",
   "metadata": {
    "id": "8W5FvMFbR9Lk"
   },
   "source": [
    "1.2.4 **SOLUTIONS**"
   ]
  },
  {
   "cell_type": "code",
   "execution_count": 2,
   "metadata": {
    "colab": {
     "base_uri": "https://localhost:8080/"
    },
    "id": "E_TZGEAxae6w",
    "outputId": "de0a10d7-1304-4396-b90c-2ffa412b34d2"
   },
   "outputs": [
    {
     "name": "stdout",
     "output_type": "stream",
     "text": [
      "The man who played the Game of Thrones flawlessly and won.\n"
     ]
    }
   ],
   "source": [
    "#Answer 1.2.4 -- make sure the code here has everything it needs to run by itself (import statements, etc)\n",
    "import requests as rq\n",
    "\n",
    "data = rq.get('https://www.reddit.com/r/gameofthrones/.json', headers = {'User-agent': 'whatever-you-like'}).json()\n",
    "\n",
    "print(data['data']['children'][0]['data']['title'])\n",
    "\n"
   ]
  },
  {
   "cell_type": "markdown",
   "metadata": {
    "id": "lgd92o1Kae6x"
   },
   "source": [
    ">**Ex 1.2.5**: Write two `for` loops (or list comprehensions for extra street credits) which:\n",
    ">1. Counts the number of spoilers.\n",
    ">2. Only prints headlines that aren't spoilers."
   ]
  },
  {
   "cell_type": "markdown",
   "metadata": {
    "id": "pqQ2I-9dSDe-"
   },
   "source": [
    "1.2.5 **SOLUTIONS**"
   ]
  },
  {
   "cell_type": "code",
   "execution_count": 3,
   "metadata": {
    "colab": {
     "base_uri": "https://localhost:8080/"
    },
    "id": "PnFmfoviae6x",
    "outputId": "ad1f3222-dedc-40cf-8680-dfc5145ba356"
   },
   "outputs": [
    {
     "name": "stdout",
     "output_type": "stream",
     "text": [
      "Amount of spoilers 2\n",
      "The man who played the Game of Thrones flawlessly and won.\n",
      "Game Of Thrones Wasted Potential. Areo Hotah\n",
      "this subReddit was so good, I finally bought the books to get the references you guys make. im ready.\n",
      "hmmmm ??? 🤔\n",
      "Why do people rate seasons 6 and 7 so highly?\n",
      "not the best of my cosplay shots, but look, Daenerys has wings!\n",
      "Sooooo… Opinions????\n",
      "Found this in my university ground today\n",
      "Which theme did you like better? Light of the Seven or The Night King?\n",
      "My Dad called me with GOT questions\n",
      "If Game of thrones was scored by Metro boomin\n",
      "Assign a quote to the wrong character, but make it make sense. I’ll start: “Caaaaaaat…” - Tommen\n",
      "Fans of Elder Scrolls I need your help\n",
      "Is this the largest fictional franchise subreddit?\n",
      "Who was the night king before becoming the night king?\n",
      "The Night King was never really a threat\n",
      "$35,000 USD Game of Thrones - Fender Stratocaster\n",
      "“Tyrion says nothing but “Penis” jokes in season 7 &amp; 8.”\n",
      "Greyjoy/Ironborn coats or cloaks\n",
      "Finally I begin my journey to the Westros for the first time\n",
      "Whats you're favorite quote from the show?\n",
      "Why did Arya abandon changing faces after she killed Filch (Walder Fray)? I mean aside from season 8 being a shitshow. She had the ability to become literally anyone, and it just evaporated.\n",
      "Spoils of War. How old must be Drogon here?\n"
     ]
    }
   ],
   "source": [
    "spoilerFree = [x for x in data['data']['children'] if x['data']['spoiler'] == False]\n",
    "spoilers = [x for x in data['data']['children'] if x['data']['spoiler'] == True]\n",
    "\n",
    "\n",
    "print(f'Amount of spoilers {len(spoilers)}')\n",
    "\n",
    "for index,objects in enumerate(spoilerFree):\n",
    "    print(objects['data']['title'])"
   ]
  },
  {
   "cell_type": "markdown",
   "metadata": {
    "id": "vQdQH4x1ae6y"
   },
   "source": [
    "### Week 2"
   ]
  },
  {
   "cell_type": "markdown",
   "metadata": {
    "ExecuteTime": {
     "end_time": "2019-01-23T21:28:54.941490Z",
     "start_time": "2019-01-23T21:28:44.166852Z"
    },
    "id": "2bLl67b3ae6y"
   },
   "source": [
    ">**Ex. 2.1.2**: The `get_x_y` function below gives you the number of comments versus score for the latest `N` posts on a given `subreddit`. First, make sure you understand the code.  Then: \n",
    "1. Make a scatter plot of `x` vs. `y` for the \"blackmirror\" subreddit (**remember** what you learned in the previous exercise about **styling**). **Comment on what you see in the plot.**\n",
    "2. Maybe you've noticed that it looks pretty bad right, in the sense that lots of points are close to each other while a few are far away from the rest? That's because the data does *not scale linearly*! This is a very common thing. To visualize it you should then try to *transform* it somehow. In this case, the data scales *exponentially* in both the x and y direction. Which transformation should we use to make it look linear?\n",
    "3. In two separate figures, floating side by side, scatter plot (left) the set of x and y variables for \"blackmirror\" and (right) x and y for \"news\" (you can use [subplots](https://matplotlib.org/3.3.3/api/_as_gen/matplotlib.pyplot.subplots.html), for example, to plot two figures sideby side). Remember to transform the data. When I solved this exercise a while back, my figure looked like [this](https://canvas.disabroad.org/courses/7869/files/1211244?module_item_id=224615).\n",
    "4. Interpret and comment on any differences you see between the two plots. Why might number of comments versus post upvotes look different for a TV-show than for world news?\n",
    ">\n",
    ">*Hint: By \"transformation\" in point 2 and 3 above, I mean that you map some function onto every value in a list of values. Example: I can apply a square root transformation like `x = [np.sqrt(v) for v in x]`. A faster way to do that, of course, would be just `x = np.sqrt(x)`.*"
   ]
  },
  {
   "cell_type": "markdown",
   "metadata": {
    "id": "4CF2JQ3WSGng"
   },
   "source": [
    "2.1.2 **SOLUTIONS**"
   ]
  },
  {
   "cell_type": "code",
   "execution_count": 4,
   "metadata": {
    "colab": {
     "base_uri": "https://localhost:8080/",
     "height": 1000
    },
    "id": "W0h-KgUyae6y",
    "outputId": "e52eef38-dffb-4402-abd5-3758fd1b11e9"
   },
   "outputs": [
    {
     "name": "stdout",
     "output_type": "stream",
     "text": [
      "Retrieved 25 posts from page \n",
      "Retrieved 25 posts from page t3_1130gh2\n",
      "Retrieved 25 posts from page t3_10t3age\n",
      "Retrieved 25 posts from page t3_10lc6aj\n",
      "Retrieved 25 posts from page t3_10c8s14\n",
      "Retrieved 25 posts from page t3_zzpoqs\n",
      "Retrieved 25 posts from page t3_zuolid\n",
      "Retrieved 25 posts from page t3_zplsqt\n",
      "Retrieved 25 posts from page t3_zhjvsq\n",
      "Retrieved 25 posts from page t3_zajiyc\n",
      "Retrieved 25 posts from page t3_z47std\n",
      "Retrieved 25 posts from page t3_yygyux\n",
      "Retrieved 25 posts from page t3_yoe8el\n",
      "Retrieved 25 posts from page t3_ydzobx\n",
      "Retrieved 25 posts from page t3_y83m0f\n",
      "Retrieved 25 posts from page t3_y47uwp\n",
      "Retrieved 25 posts from page t3_xwm3i5\n",
      "Retrieved 25 posts from page t3_xoxy7v\n",
      "Retrieved 25 posts from page t3_xgnn88\n",
      "Retrieved 25 posts from page t3_x5rrwl\n",
      "Retrieved 25 posts from page \n",
      "Retrieved 25 posts from page t3_117hxx2\n",
      "Retrieved 25 posts from page t3_115v9sb\n",
      "Retrieved 25 posts from page t3_115n4kp\n",
      "Retrieved 25 posts from page t3_114nh48\n",
      "Retrieved 25 posts from page t3_114vr5z\n",
      "Retrieved 25 posts from page t3_1140zwd\n",
      "Retrieved 25 posts from page t3_113qmvc\n",
      "Retrieved 25 posts from page t3_113lesh\n",
      "Retrieved 25 posts from page t3_1132nkt\n",
      "Retrieved 25 posts from page t3_112y17i\n",
      "Retrieved 25 posts from page t3_111pyfz\n",
      "Retrieved 25 posts from page t3_1110fym\n",
      "Retrieved 25 posts from page None\n",
      "Retrieved 25 posts from page t3_117hxx2\n",
      "Retrieved 25 posts from page t3_115v9sb\n",
      "Retrieved 25 posts from page t3_115n4kp\n",
      "Retrieved 25 posts from page t3_114nh48\n",
      "Retrieved 25 posts from page t3_114vr5z\n",
      "Retrieved 25 posts from page t3_1140zwd\n"
     ]
    },
    {
     "data": {
      "image/png": "[encoded data removed]",
      "text/plain": [
       "<Figure size 640x480 with 2 Axes>"
      ]
     },
     "metadata": {},
     "output_type": "display_data"
    }
   ],
   "source": [
    "import requests as rq\n",
    "from matplotlib import pyplot as plt\n",
    "import numpy as np\n",
    "%matplotlib inline\n",
    "\n",
    "def get_x_y(subreddit, N, count=25):\n",
    "    \n",
    "    def _get_data(subreddit, count, after):\n",
    "        url = f\"https://www.reddit.com/r/{subreddit}/.json?count={count}&after={after}\"\n",
    "        data = rq.get(url, headers = {'User-agent': 'sneakybot'}).json()\n",
    "        print(f\"Retrieved {count} posts from page {after}\")\n",
    "        return data\n",
    "    \n",
    "    after = \"\"\n",
    "\n",
    "    x, y = [], []\n",
    "    for n in range(N//count):\n",
    "        data = _get_data(subreddit, count, after)\n",
    "        for d in data['data']['children']:\n",
    "            x.append(d['data']['num_comments'])\n",
    "            y.append(d['data']['score'])\n",
    "        after = data['data']['after']\n",
    "\n",
    "    return x, y\n",
    "                          \n",
    "np.seterr(divide = 'ignore') #ignore -inf warning when log by 0\n",
    "\n",
    "#gets and transforms black mirror data\n",
    "x, y = get_x_y(\"blackmirror\", 500, count=25)\n",
    "x_transformed = np.log(x)\n",
    "y_transformed = np.log(y)\n",
    "\n",
    "#gets and transforms news data\n",
    "\n",
    "x_news, y_news = get_x_y(\"news\", 500, count=25)\n",
    "x_news_transformed = np.log(x_news)\n",
    "y_news_transformed = np.log(y_news)\n",
    "\n",
    "#scatter plots\n",
    "plt.subplots_adjust(left=0.1,\n",
    "                    bottom=0.1,\n",
    "                    right=0.9,\n",
    "                    top=0.9,\n",
    "                    wspace=0.4,\n",
    "                    hspace=0.4)\n",
    "\n",
    "plt.subplot(1,2,1)\n",
    "plt.scatter(x_transformed , y_transformed)\n",
    "plt.title(\"Black Mirror\")\n",
    "plt.xlabel(\"Comments\")\n",
    "plt.ylabel(\"Upvotes\")\n",
    "\n",
    "plt.subplot(1,2,2)\n",
    "plt.scatter(x_news_transformed , y_news_transformed, color = \"red\")\n",
    "plt.title(\"News\")\n",
    "plt.xlabel(\"Comments\")\n",
    "plt.ylabel(\"Upvotes\")\n",
    "plt.show()"
   ]
  },
  {
   "cell_type": "markdown",
   "metadata": {
    "id": "1OTtrRauhbkb"
   },
   "source": [
    "2. Log transform\n",
    "4. People usually just like/dislike shows, while a lot of people have divisive opinions on the news meaning more comments. "
   ]
  },
  {
   "cell_type": "markdown",
   "metadata": {
    "id": "szY5nItrae6y"
   },
   "source": [
    ">**Ex. 2.2.5**: There's another use of the covariance matrix, other than just learning how features co-vary. In fact, it turns out that the *eigenvectors* of the covariance matrix are a set of mutually orthogonal vectors, that point in the directions of greatest variance in the data. The eigenvector with the greatest *eigenvalue* points along the direction of greatest variation, and so on. This is pretty neat, because if we know along which axes the data is most stretched, we can figure out how best to project it when visualizing it in 2D as a scatter plot! This whole procedure has a name: **Principal Component Analysis** (PCA) and it was invented by Karl Pearson in 1901. It belongs to a powerful class of linear algebra methods called **Matrix Factorization** methods. Ok, so rather than spending too much time on the math of PCA, let's just use the `sklearn` implementation and fit a [PCA](https://scikit-learn.org/stable/modules/generated/sklearn.decomposition.PCA.html) on `X`."
   ]
  },
  {
   "cell_type": "code",
   "execution_count": 5,
   "metadata": {
    "colab": {
     "base_uri": "https://localhost:8080/",
     "height": 363
    },
    "id": "sqCmHcwEfYMs",
    "outputId": "06cce064-210c-475b-cb3a-38d462d1a194"
   },
   "outputs": [
    {
     "data": {
      "text/html": [
       "<div>\n",
       "<style scoped>\n",
       "    .dataframe tbody tr th:only-of-type {\n",
       "        vertical-align: middle;\n",
       "    }\n",
       "\n",
       "    .dataframe tbody tr th {\n",
       "        vertical-align: top;\n",
       "    }\n",
       "\n",
       "    .dataframe thead th {\n",
       "        text-align: right;\n",
       "    }\n",
       "</style>\n",
       "<table border=\"1\" class=\"dataframe\">\n",
       "  <thead>\n",
       "    <tr style=\"text-align: right;\">\n",
       "      <th></th>\n",
       "      <th>Alcohol</th>\n",
       "      <th>Malic.acid</th>\n",
       "      <th>Ash</th>\n",
       "      <th>Acl</th>\n",
       "      <th>Mg</th>\n",
       "      <th>Phenols</th>\n",
       "      <th>Flavanoids</th>\n",
       "      <th>Nonflavanoid.phenols</th>\n",
       "      <th>Proanth</th>\n",
       "      <th>Color.int</th>\n",
       "      <th>Hue</th>\n",
       "      <th>OD</th>\n",
       "      <th>Proline</th>\n",
       "    </tr>\n",
       "  </thead>\n",
       "  <tbody>\n",
       "    <tr>\n",
       "      <th>0</th>\n",
       "      <td>14.23</td>\n",
       "      <td>1.71</td>\n",
       "      <td>2.43</td>\n",
       "      <td>15.6</td>\n",
       "      <td>127</td>\n",
       "      <td>2.80</td>\n",
       "      <td>3.06</td>\n",
       "      <td>0.28</td>\n",
       "      <td>2.29</td>\n",
       "      <td>5.64</td>\n",
       "      <td>1.04</td>\n",
       "      <td>3.92</td>\n",
       "      <td>1065</td>\n",
       "    </tr>\n",
       "    <tr>\n",
       "      <th>1</th>\n",
       "      <td>13.20</td>\n",
       "      <td>1.78</td>\n",
       "      <td>2.14</td>\n",
       "      <td>11.2</td>\n",
       "      <td>100</td>\n",
       "      <td>2.65</td>\n",
       "      <td>2.76</td>\n",
       "      <td>0.26</td>\n",
       "      <td>1.28</td>\n",
       "      <td>4.38</td>\n",
       "      <td>1.05</td>\n",
       "      <td>3.40</td>\n",
       "      <td>1050</td>\n",
       "    </tr>\n",
       "    <tr>\n",
       "      <th>2</th>\n",
       "      <td>13.16</td>\n",
       "      <td>2.36</td>\n",
       "      <td>2.67</td>\n",
       "      <td>18.6</td>\n",
       "      <td>101</td>\n",
       "      <td>2.80</td>\n",
       "      <td>3.24</td>\n",
       "      <td>0.30</td>\n",
       "      <td>2.81</td>\n",
       "      <td>5.68</td>\n",
       "      <td>1.03</td>\n",
       "      <td>3.17</td>\n",
       "      <td>1185</td>\n",
       "    </tr>\n",
       "    <tr>\n",
       "      <th>3</th>\n",
       "      <td>14.37</td>\n",
       "      <td>1.95</td>\n",
       "      <td>2.50</td>\n",
       "      <td>16.8</td>\n",
       "      <td>113</td>\n",
       "      <td>3.85</td>\n",
       "      <td>3.49</td>\n",
       "      <td>0.24</td>\n",
       "      <td>2.18</td>\n",
       "      <td>7.80</td>\n",
       "      <td>0.86</td>\n",
       "      <td>3.45</td>\n",
       "      <td>1480</td>\n",
       "    </tr>\n",
       "    <tr>\n",
       "      <th>4</th>\n",
       "      <td>13.24</td>\n",
       "      <td>2.59</td>\n",
       "      <td>2.87</td>\n",
       "      <td>21.0</td>\n",
       "      <td>118</td>\n",
       "      <td>2.80</td>\n",
       "      <td>2.69</td>\n",
       "      <td>0.39</td>\n",
       "      <td>1.82</td>\n",
       "      <td>4.32</td>\n",
       "      <td>1.04</td>\n",
       "      <td>2.93</td>\n",
       "      <td>735</td>\n",
       "    </tr>\n",
       "    <tr>\n",
       "      <th>5</th>\n",
       "      <td>14.20</td>\n",
       "      <td>1.76</td>\n",
       "      <td>2.45</td>\n",
       "      <td>15.2</td>\n",
       "      <td>112</td>\n",
       "      <td>3.27</td>\n",
       "      <td>3.39</td>\n",
       "      <td>0.34</td>\n",
       "      <td>1.97</td>\n",
       "      <td>6.75</td>\n",
       "      <td>1.05</td>\n",
       "      <td>2.85</td>\n",
       "      <td>1450</td>\n",
       "    </tr>\n",
       "    <tr>\n",
       "      <th>6</th>\n",
       "      <td>14.39</td>\n",
       "      <td>1.87</td>\n",
       "      <td>2.45</td>\n",
       "      <td>14.6</td>\n",
       "      <td>96</td>\n",
       "      <td>2.50</td>\n",
       "      <td>2.52</td>\n",
       "      <td>0.30</td>\n",
       "      <td>1.98</td>\n",
       "      <td>5.25</td>\n",
       "      <td>1.02</td>\n",
       "      <td>3.58</td>\n",
       "      <td>1290</td>\n",
       "    </tr>\n",
       "    <tr>\n",
       "      <th>7</th>\n",
       "      <td>14.06</td>\n",
       "      <td>2.15</td>\n",
       "      <td>2.61</td>\n",
       "      <td>17.6</td>\n",
       "      <td>121</td>\n",
       "      <td>2.60</td>\n",
       "      <td>2.51</td>\n",
       "      <td>0.31</td>\n",
       "      <td>1.25</td>\n",
       "      <td>5.05</td>\n",
       "      <td>1.06</td>\n",
       "      <td>3.58</td>\n",
       "      <td>1295</td>\n",
       "    </tr>\n",
       "    <tr>\n",
       "      <th>8</th>\n",
       "      <td>14.83</td>\n",
       "      <td>1.64</td>\n",
       "      <td>2.17</td>\n",
       "      <td>14.0</td>\n",
       "      <td>97</td>\n",
       "      <td>2.80</td>\n",
       "      <td>2.98</td>\n",
       "      <td>0.29</td>\n",
       "      <td>1.98</td>\n",
       "      <td>5.20</td>\n",
       "      <td>1.08</td>\n",
       "      <td>2.85</td>\n",
       "      <td>1045</td>\n",
       "    </tr>\n",
       "    <tr>\n",
       "      <th>9</th>\n",
       "      <td>13.86</td>\n",
       "      <td>1.35</td>\n",
       "      <td>2.27</td>\n",
       "      <td>16.0</td>\n",
       "      <td>98</td>\n",
       "      <td>2.98</td>\n",
       "      <td>3.15</td>\n",
       "      <td>0.22</td>\n",
       "      <td>1.85</td>\n",
       "      <td>7.22</td>\n",
       "      <td>1.01</td>\n",
       "      <td>3.55</td>\n",
       "      <td>1045</td>\n",
       "    </tr>\n",
       "  </tbody>\n",
       "</table>\n",
       "</div>"
      ],
      "text/plain": [
       "   Alcohol  Malic.acid   Ash   Acl   Mg  Phenols  Flavanoids  \\\n",
       "0    14.23        1.71  2.43  15.6  127     2.80        3.06   \n",
       "1    13.20        1.78  2.14  11.2  100     2.65        2.76   \n",
       "2    13.16        2.36  2.67  18.6  101     2.80        3.24   \n",
       "3    14.37        1.95  2.50  16.8  113     3.85        3.49   \n",
       "4    13.24        2.59  2.87  21.0  118     2.80        2.69   \n",
       "5    14.20        1.76  2.45  15.2  112     3.27        3.39   \n",
       "6    14.39        1.87  2.45  14.6   96     2.50        2.52   \n",
       "7    14.06        2.15  2.61  17.6  121     2.60        2.51   \n",
       "8    14.83        1.64  2.17  14.0   97     2.80        2.98   \n",
       "9    13.86        1.35  2.27  16.0   98     2.98        3.15   \n",
       "\n",
       "   Nonflavanoid.phenols  Proanth  Color.int   Hue    OD  Proline  \n",
       "0                  0.28     2.29       5.64  1.04  3.92     1065  \n",
       "1                  0.26     1.28       4.38  1.05  3.40     1050  \n",
       "2                  0.30     2.81       5.68  1.03  3.17     1185  \n",
       "3                  0.24     2.18       7.80  0.86  3.45     1480  \n",
       "4                  0.39     1.82       4.32  1.04  2.93      735  \n",
       "5                  0.34     1.97       6.75  1.05  2.85     1450  \n",
       "6                  0.30     1.98       5.25  1.02  3.58     1290  \n",
       "7                  0.31     1.25       5.05  1.06  3.58     1295  \n",
       "8                  0.29     1.98       5.20  1.08  2.85     1045  \n",
       "9                  0.22     1.85       7.22  1.01  3.55     1045  "
      ]
     },
     "execution_count": 5,
     "metadata": {},
     "output_type": "execute_result"
    }
   ],
   "source": [
    "import pandas as pd\n",
    "\n",
    "# Download dataset\n",
    "X = pd.read_csv(\"https://gist.githubusercontent.com/tijptjik/9408623/raw/b237fa5848349a14a14e5d4107dc7897c21951f5/wine.csv\").drop('Wine', axis=1)\n",
    "\n",
    "# Display dataset\n",
    "X.head(10)"
   ]
  },
  {
   "cell_type": "code",
   "execution_count": 8,
   "metadata": {
    "ExecuteTime": {
     "end_time": "2019-09-23T17:02:34.569917Z",
     "start_time": "2019-09-23T17:02:34.555036Z"
    },
    "colab": {
     "base_uri": "https://localhost:8080/"
    },
    "id": "JI9dL2K_ae6y",
    "outputId": "53e6dedb-e385-4187-9904-5d7c8608725f"
   },
   "outputs": [
    {
     "data": {
      "text/html": [
       "<style>#sk-container-id-2 {color: black;background-color: white;}#sk-container-id-2 pre{padding: 0;}#sk-container-id-2 div.sk-toggleable {background-color: white;}#sk-container-id-2 label.sk-toggleable__label {cursor: pointer;display: block;width: 100%;margin-bottom: 0;padding: 0.3em;box-sizing: border-box;text-align: center;}#sk-container-id-2 label.sk-toggleable__label-arrow:before {content: \"▸\";float: left;margin-right: 0.25em;color: #696969;}#sk-container-id-2 label.sk-toggleable__label-arrow:hover:before {color: black;}#sk-container-id-2 div.sk-estimator:hover label.sk-toggleable__label-arrow:before {color: black;}#sk-container-id-2 div.sk-toggleable__content {max-height: 0;max-width: 0;overflow: hidden;text-align: left;background-color: #f0f8ff;}#sk-container-id-2 div.sk-toggleable__content pre {margin: 0.2em;color: black;border-radius: 0.25em;background-color: #f0f8ff;}#sk-container-id-2 input.sk-toggleable__control:checked~div.sk-toggleable__content {max-height: 200px;max-width: 100%;overflow: auto;}#sk-container-id-2 input.sk-toggleable__control:checked~label.sk-toggleable__label-arrow:before {content: \"▾\";}#sk-container-id-2 div.sk-estimator input.sk-toggleable__control:checked~label.sk-toggleable__label {background-color: #d4ebff;}#sk-container-id-2 div.sk-label input.sk-toggleable__control:checked~label.sk-toggleable__label {background-color: #d4ebff;}#sk-container-id-2 input.sk-hidden--visually {border: 0;clip: rect(1px 1px 1px 1px);clip: rect(1px, 1px, 1px, 1px);height: 1px;margin: -1px;overflow: hidden;padding: 0;position: absolute;width: 1px;}#sk-container-id-2 div.sk-estimator {font-family: monospace;background-color: #f0f8ff;border: 1px dotted black;border-radius: 0.25em;box-sizing: border-box;margin-bottom: 0.5em;}#sk-container-id-2 div.sk-estimator:hover {background-color: #d4ebff;}#sk-container-id-2 div.sk-parallel-item::after {content: \"\";width: 100%;border-bottom: 1px solid gray;flex-grow: 1;}#sk-container-id-2 div.sk-label:hover label.sk-toggleable__label {background-color: #d4ebff;}#sk-container-id-2 div.sk-serial::before {content: \"\";position: absolute;border-left: 1px solid gray;box-sizing: border-box;top: 0;bottom: 0;left: 50%;z-index: 0;}#sk-container-id-2 div.sk-serial {display: flex;flex-direction: column;align-items: center;background-color: white;padding-right: 0.2em;padding-left: 0.2em;position: relative;}#sk-container-id-2 div.sk-item {position: relative;z-index: 1;}#sk-container-id-2 div.sk-parallel {display: flex;align-items: stretch;justify-content: center;background-color: white;position: relative;}#sk-container-id-2 div.sk-item::before, #sk-container-id-2 div.sk-parallel-item::before {content: \"\";position: absolute;border-left: 1px solid gray;box-sizing: border-box;top: 0;bottom: 0;left: 50%;z-index: -1;}#sk-container-id-2 div.sk-parallel-item {display: flex;flex-direction: column;z-index: 1;position: relative;background-color: white;}#sk-container-id-2 div.sk-parallel-item:first-child::after {align-self: flex-end;width: 50%;}#sk-container-id-2 div.sk-parallel-item:last-child::after {align-self: flex-start;width: 50%;}#sk-container-id-2 div.sk-parallel-item:only-child::after {width: 0;}#sk-container-id-2 div.sk-dashed-wrapped {border: 1px dashed gray;margin: 0 0.4em 0.5em 0.4em;box-sizing: border-box;padding-bottom: 0.4em;background-color: white;}#sk-container-id-2 div.sk-label label {font-family: monospace;font-weight: bold;display: inline-block;line-height: 1.2em;}#sk-container-id-2 div.sk-label-container {text-align: center;}#sk-container-id-2 div.sk-container {/* jupyter's `normalize.less` sets `[hidden] { display: none; }` but bootstrap.min.css set `[hidden] { display: none !important; }` so we also need the `!important` here to be able to override the default hidden behavior on the sphinx rendered scikit-learn.org. See: https://github.com/scikit-learn/scikit-learn/issues/21755 */display: inline-block !important;position: relative;}#sk-container-id-2 div.sk-text-repr-fallback {display: none;}</style><div id=\"sk-container-id-2\" class=\"sk-top-container\"><div class=\"sk-text-repr-fallback\"><pre>PCA(n_components=10)</pre><b>In a Jupyter environment, please rerun this cell to show the HTML representation or trust the notebook. <br />On GitHub, the HTML representation is unable to render, please try loading this page with nbviewer.org.</b></div><div class=\"sk-container\" hidden><div class=\"sk-item\"><div class=\"sk-estimator sk-toggleable\"><input class=\"sk-toggleable__control sk-hidden--visually\" id=\"sk-estimator-id-2\" type=\"checkbox\" checked><label for=\"sk-estimator-id-2\" class=\"sk-toggleable__label sk-toggleable__label-arrow\">PCA</label><div class=\"sk-toggleable__content\"><pre>PCA(n_components=10)</pre></div></div></div></div></div>"
      ],
      "text/plain": [
       "PCA(n_components=10)"
      ]
     },
     "execution_count": 8,
     "metadata": {},
     "output_type": "execute_result"
    }
   ],
   "source": [
    "from sklearn.decomposition import PCA\n",
    "pca = PCA(n_components=10)\n",
    "pca.fit(X)"
   ]
  },
  {
   "cell_type": "markdown",
   "metadata": {
    "id": "M9Rl5lfeae6z"
   },
   "source": [
    ">1. Explain what the matrix you get when you call `pca.components_` means.  Read about the `components_` attribute (run `?pca` in a code cell and then look under \"Attributes\").\n",
    "2. Make a bar plot of `pca.explained_variance_ratio_` and explain what it means (you may want to log-scale the y-axis). What insights about our data can we extract from this?\n",
    "3. Indeed, problem with the data AS-IS, is that the different features have very different variances (some are huge numbers others are small). The way to fix this is by doing something called \"[zscoring](https://en.wikipedia.org/wiki/Standard_score)\", whereby each feature is rescaled to have zero mean and unit standard deviation. In this way, all of the data ends up with comparable variance. Make a new array `X_z` that is the zscored `X`, using the `scipy.stats.zscore` function. Show that each column has zero mean and unit standard deviation.\n",
    "4. Transform `X` using the PCA we fitted above to create a new array `X_pca`. Then fit a new PCA to `X_z` and transform it to create another new array `X_z_pca`. Finally, scatter plot against each other the first two components (i.e. fitst two columns in array) of `X_pca`. Do the same for `X_z_pc`. Comment on the difference.\n",
    "\n",
    ">*Hint for 4: use `pca.transform` or `pca.fit_transform`. Understand the difference between the two.*"
   ]
  },
  {
   "cell_type": "markdown",
   "metadata": {
    "id": "euC0eWG_mFkf"
   },
   "source": [
    "2.2.5 **SOLUTIONS**"
   ]
  },
  {
   "cell_type": "markdown",
   "metadata": {
    "id": "yerxAT0cfkea"
   },
   "source": [
    "1. The matrix returned by pca.components_ is a matrix of shape (10,13) where 10 is the number of components and 13 is the number of features. It shows the directions of maximum variance in the data, and the components are sorted in decreasing order by 'explained variance'"
   ]
  },
  {
   "cell_type": "markdown",
   "metadata": {
    "id": "GMVnPrdGg08i"
   },
   "source": [
    "2. The bar chart below shows that explained variance decreases significantly the more components we look at. It shows that the first 4 or 5 features account for the greatest amount of variance and could potentially be sufficient on their own for further analysis of trends or predictions."
   ]
  },
  {
   "cell_type": "code",
   "execution_count": 9,
   "metadata": {
    "colab": {
     "base_uri": "https://localhost:8080/",
     "height": 279
    },
    "id": "q1altB_6gsCi",
    "outputId": "0f602bc7-35f0-44d2-967e-552731086c93"
   },
   "outputs": [
    {
     "data": {
      "image/png": "[encoded data removed]",
      "text/plain": [
       "<Figure size 640x480 with 1 Axes>"
      ]
     },
     "metadata": {},
     "output_type": "display_data"
    }
   ],
   "source": [
    "from matplotlib import pyplot as plt\n",
    "expl_var_rat = pca.explained_variance_ratio_\n",
    "plt.yscale(\"log\")\n",
    "plt.bar(range(1,11),expl_var_rat)\n",
    "plt.xlabel(\"Components\")\n",
    "plt.ylabel(\"Variance\")\n",
    "plt.show()\n",
    "\n"
   ]
  },
  {
   "cell_type": "code",
   "execution_count": 10,
   "metadata": {
    "colab": {
     "base_uri": "https://localhost:8080/"
    },
    "id": "SBrnjiGehcxz",
    "outputId": "0a9d298f-0bda-4c71-d55f-a9c036455bc3"
   },
   "outputs": [
    {
     "name": "stdout",
     "output_type": "stream",
     "text": [
      "Mean:  -8.382807556720283e-16\n",
      "Std dev:  1.0028208800748637\n",
      "Mean:  -1.197543936674326e-16\n",
      "Std dev:  1.002820880074864\n",
      "Mean:  -8.370333140713259e-16\n",
      "Std dev:  1.002820880074864\n",
      "Mean:  -3.991813122247754e-17\n",
      "Std dev:  1.0028208800748637\n",
      "Mean:  -3.991813122247754e-17\n",
      "Std dev:  1.0028208800748637\n",
      "Mean:  0.0\n",
      "Std dev:  1.0028208800748637\n",
      "Mean:  -3.9918131222477537e-16\n",
      "Std dev:  1.0028208800748637\n",
      "Mean:  3.5926318100229784e-16\n",
      "Std dev:  1.0028208800748637\n",
      "Mean:  -1.197543936674326e-16\n",
      "Std dev:  1.0028208800748635\n",
      "Mean:  2.494883201404846e-17\n",
      "Std dev:  1.0028208800748637\n",
      "Mean:  1.9959065611238769e-16\n",
      "Std dev:  1.0028208800748637\n",
      "Mean:  3.193450497798203e-16\n",
      "Std dev:  1.0028208800748637\n",
      "Mean:  -1.5967252488991015e-16\n",
      "Std dev:  1.0028208800748637\n"
     ]
    }
   ],
   "source": [
    "from scipy import stats\n",
    "import numpy as np\n",
    "X_z = stats.zscore(X)\n",
    "new = []\n",
    "for arr in X_z:\n",
    "    new.append(arr[0])\n",
    "#print(X_z['Alcohol'].std())\n",
    "for (columnName, columnData) in X_z.iteritems():\n",
    "  print('Mean: ', X_z[columnName].mean())\n",
    "  print('Std dev: ', X_z[columnName].std())\n"
   ]
  },
  {
   "cell_type": "markdown",
   "metadata": {
    "id": "F_btu8l6lUbn"
   },
   "source": [
    "4. The first scatter plot below shows the first two components distributed randomly while the second scatter plot of the zscored data shows some sort of relationship between the first two components. This is an indication that zscoring could potentially help us gain some more insights from the data if we are more targeted about it."
   ]
  },
  {
   "cell_type": "code",
   "execution_count": 11,
   "metadata": {
    "colab": {
     "base_uri": "https://localhost:8080/",
     "height": 591
    },
    "id": "_KufNtYlj2w9",
    "outputId": "58727a1f-11de-4f80-993e-0eca4a59e1b8"
   },
   "outputs": [
    {
     "data": {
      "image/png": "[encoded data removed]",
      "text/plain": [
       "<Figure size 640x480 with 1 Axes>"
      ]
     },
     "metadata": {},
     "output_type": "display_data"
    },
    {
     "name": "stdout",
     "output_type": "stream",
     "text": [
      "\n"
     ]
    },
    {
     "data": {
      "image/png": "[encoded data removed]",
      "text/plain": [
       "<Figure size 640x480 with 1 Axes>"
      ]
     },
     "metadata": {},
     "output_type": "display_data"
    }
   ],
   "source": [
    "X_pca = pca.transform(X)\n",
    "new_pca = PCA(n_components=10)\n",
    "new_pca.fit(X_z)\n",
    "X_z_pca = new_pca.transform(X_z)\n",
    "plt.scatter(X_pca[:,0], X_pca[:,1]);\n",
    "plt.title(\"First two components of X_pca\");\n",
    "plt.xlabel(\"First component\");\n",
    "plt.ylabel(\"Second component\");\n",
    "plt.show();\n",
    "print();\n",
    "plt.scatter(X_z_pca[:,0], X_z_pca[:,1]);\n",
    "plt.title(\"First two components of X_z_pca (after zscoring)\");\n",
    "plt.xlabel(\"First component\");\n",
    "plt.ylabel(\"Second component\");"
   ]
  },
  {
   "cell_type": "markdown",
   "metadata": {
    "id": "wUGiK4SGae6z"
   },
   "source": [
    ">**Ex. 2.3.1**: Take a vector `a = [1, 3, 2, 5, 3, 1, 5, 1, 9000]`:\n",
    "1. Compute the mean of `a` using `numpy`.\n",
    "2. How is median defined? Compute the median of `a` using `numpy`.\n",
    "3. For `a`, why might it make sense to take the median more seriously than the mean?"
   ]
  },
  {
   "cell_type": "markdown",
   "metadata": {
    "id": "M8vMHGQMSYku"
   },
   "source": [
    "2.3.1 **SOLUTIONS**"
   ]
  },
  {
   "cell_type": "code",
   "execution_count": 12,
   "metadata": {
    "id": "ji0pd7MUfRQr"
   },
   "outputs": [
    {
     "name": "stdout",
     "output_type": "stream",
     "text": [
      "Mean: 1002.3333333333334 \n",
      "Median: 3.0\n"
     ]
    }
   ],
   "source": [
    "a = [1, 3, 2, 5, 3, 1, 5, 1, 9000]\n",
    "#1.\n",
    "mean = np.mean(a)\n",
    "print(f\"Mean: {mean} \" )\n",
    "\n",
    "#2.\n",
    "#Median is the middle value of the data set when the data is sorted\n",
    "median = np.median(a)\n",
    "print(f\"Median: {median}\")\n",
    "\n",
    "#3.\n",
    "#It makes more sense to look at the median because of the outlier of 9000, which severly skews the data\n"
   ]
  },
  {
   "cell_type": "markdown",
   "metadata": {
    "id": "uRRTymw2ae6z"
   },
   "source": [
    "### Week 3"
   ]
  },
  {
   "cell_type": "markdown",
   "metadata": {
    "ExecuteTime": {
     "end_time": "2017-08-23T14:01:10.834257Z",
     "start_time": "2017-08-23T14:01:10.826472Z"
    },
    "id": "Yssdfgf2ae6z"
   },
   "source": [
    ">**Ex. 3.1.1**: From the Wikipedia API, get a list of all Marvel superheroes and another list of all Marvel supervillains. Use the `get_categorymembers` function below to get the characters in each category: 'Category:Marvel_Comics_supervillains' and 'Category:Marvel_Comics_superheroes'. Make sure you spend some time understanding the code.  How is the query formed?  Why does it take that form?  It will help to look at the [Categorymembers API](https://www.mediawiki.org/wiki/API:Categorymembers).  Moreoever, understand the need for the while loop and role played by the `cmcontinue` variable and query argument.\n",
    "\n",
    ">After you've obtained the lists for superheroes and supervillains, write some code to answer:\n",
    "1. How many characters are *ambiguous*, i.e. are both heroes and villains? What is the Jaccard similarity between the two groups?\n",
    "2. How many superheroes are there? How many supervillains? Do not include ambiguous characters in these counts!\n",
    ">\n",
    ">*Hint: Google something like \"get list all pages in category wikimedia api\" if you're struggling with the query. Also, you may notice that not only Marvel character pages are returned, but also names of subcategories. For now just ignore this and treat them as if they are also characters.*"
   ]
  },
  {
   "cell_type": "markdown",
   "metadata": {
    "id": "KNB3QmoRRhv6"
   },
   "source": [
    "3.1.1 **SOLUTIONS**"
   ]
  },
  {
   "cell_type": "code",
   "execution_count": 14,
   "metadata": {
    "id": "9scHLbeKae6z"
   },
   "outputs": [],
   "source": [
    "# Use this function that gets the categorymembers of a category\n",
    "def get_categorymembers(category):\n",
    "    members = []\n",
    "    cmcontinue = \"\"\n",
    "    while True:\n",
    "\n",
    "        # Download data\n",
    "        data = rq.get('https://en.wikipedia.org/w/api.php?format=json&action=query&list=categorymembers&cmtitle=%s&cmlimit=max&cmcontinue=%s' % (category, cmcontinue)).json()    \n",
    "        #print(data)\n",
    "        \n",
    "        # Add member titles\n",
    "        members.extend(\n",
    "            [m['title'] for m in data['query']['categorymembers']]\n",
    "        )\n",
    "\n",
    "        # If there is a 'continue' key in `data` then fetch the next 'cmcontinue' value\n",
    "        if 'continue' in data:\n",
    "            cmcontinue = data['continue']['cmcontinue']\n",
    "\n",
    "        # Otherwise break\n",
    "        else:\n",
    "            break\n",
    "            \n",
    "    return members\n",
    "    \n",
    "superheroes = (get_categorymembers(\"Category:Marvel_Comics_superheroes\"))\n",
    "supervillains = (get_categorymembers(\"Category:Marvel_Comics_supervillains\"))"
   ]
  },
  {
   "cell_type": "code",
   "execution_count": 15,
   "metadata": {
    "colab": {
     "base_uri": "https://localhost:8080/"
    },
    "id": "6-3_yHQ3d3jA",
    "outputId": "e9c8f034-094e-4bdd-8c27-761d3b540c53"
   },
   "outputs": [
    {
     "name": "stdout",
     "output_type": "stream",
     "text": [
      "There are 113 ambiguous characters in Marvel Comics.\n",
      "The Jaccard index for Marvel Comics superheroes and supervillains is 0.09456066945606695.\n",
      "There are 443 superheroes in Marvel Comics.\n",
      "There are 639 supervillains in Marvel Comics.\n"
     ]
    }
   ],
   "source": [
    "ambiguous = set(superheroes).intersection(supervillains)\n",
    "        \n",
    "# print(ambiguous)\n",
    "print(\"There are {} ambiguous characters in Marvel Comics.\".format(str(len(ambiguous))))\n",
    "\n",
    "jaccard = len(ambiguous) / (len(superheroes) + len(supervillains) - len(ambiguous))\n",
    "print(\"The Jaccard index for Marvel Comics superheroes and supervillains is {}.\".format(str(jaccard)))\n",
    "\n",
    "print(\"There are {} superheroes in Marvel Comics.\".format(str(len(superheroes)-len(ambiguous))))\n",
    "print(\"There are {} supervillains in Marvel Comics.\".format(str(len(supervillains)-len(ambiguous))))"
   ]
  },
  {
   "cell_type": "markdown",
   "metadata": {
    "id": "zxjfg-EKae60"
   },
   "source": [
    ">**Ex. 3.2.1**: Extract the length of the page of each character (to do so you will have to open the corresponding file) and plot the distribution of this variable for each class (heroes/villains/ambiguous). Can you say anything about the popularity of characters in the Marvel universe based on your visualization?\n",
    ">\n",
    ">*Hint: The simplest thing is to make a probability mass function, i.e. a normalized histogram. [My figure](https://github.com/lucian979/CarletonBD/blob/main/plots/ex3.2.1.pdf) looks like this. Use `plt.hist` on a list of page lengths, with the argument `density=True`. Other distribution plots are fine too, though.*"
   ]
  },
  {
   "cell_type": "markdown",
   "metadata": {
    "id": "XvHBJm5zP-wQ"
   },
   "source": [
    "3.2.1 **SOLUTIONS**"
   ]
  },
  {
   "cell_type": "code",
   "execution_count": 18,
   "metadata": {
    "colab": {
     "base_uri": "https://localhost:8080/",
     "height": 240
    },
    "id": "c3zlhi-XN1r1",
    "outputId": "41a224df-f471-42be-a69a-17bac90fbb52"
   },
   "outputs": [
    {
     "name": "stdout",
     "output_type": "stream",
     "text": [
      "[79, 11, 129, 61, 8, 159, 90, 77, 74, 14, 133, 432, 11, 168, 46, 108, 48, 200, 46, 1135, 116, 187, 124, 51, 118, 534, 77, 96, 219, 48, 60, 97, 74, 121, 155, 159, 11, 107, 55, 41, 125, 10, 94, 11, 99, 5, 14, 76, 11, 14, 231, 16, 57, 259, 9, 119, 425, 91, 111, 96, 79, 13, 66, 380, 47, 64, 124, 74, 5, 243, 70, 216, 14, 268, 57, 10, 56, 90, 65, 882, 43, 57, 14, 126, 14, 13, 17, 153, 98, 46, 105, 290, 10, 307, 411, 49, 67, 98, 85, 129, 65, 511, 54, 109, 382, 77, 89, 44, 13, 77, 12, 705, 17, 13, 99, 86, 9, 9, 49, 108, 139, 370, 101, 107, 42, 191, 99, 82, 91, 62, 107, 126, 52, 82, 5, 146, 46, 97, 166, 135, 77, 10, 262, 87, 38, 103, 78, 83, 47, 46, 92, 308, 250, 55, 75, 59, 147, 59, 104, 56, 378, 70, 69, 33, 409, 66, 84, 86, 50, 117, 48, 72, 204, 62, 115, 82, 51, 284, 191, 97, 63, 80, 164, 67, 505, 167, 49, 98, 139, 11, 8, 65, 106, 397, 68, 67, 15, 351, 149, 13, 13, 117, 142, 70, 139, 445, 121, 147, 92, 12, 71, 9, 142, 51, 12, 224, 137, 45, 11, 67, 118, 50, 88, 58, 140, 38, 190, 58, 76, 54, 83, 47, 12, 70, 107, 44, 158, 6, 160, 37, 74, 6, 79, 254, 44, 72, 571, 9, 234, 63, 342, 18, 71, 434, 91, 53, 687, 178, 56, 134, 368, 61, 79, 77, 113, 233, 177, 558, 95, 71, 43, 495, 43, 12, 103, 54, 11, 187, 110, 283, 107, 76, 113, 46, 171, 75, 142, 139, 73, 301, 37, 159, 239, 269, 12, 41, 91, 81, 120, 336, 122, 94, 185, 72, 107, 59, 122, 271, 65, 307, 305, 69, 11, 73, 87, 50, 8, 79, 64, 97, 69, 81, 70, 64, 147, 338, 8, 52, 1658, 144, 263, 117, 203, 17, 11, 63, 68, 122, 164, 13, 90, 74, 65, 63, 18, 92, 133, 14, 101, 178, 100, 109, 81, 60, 54, 2, 91, 114, 209, 75, 141, 49, 74, 62, 79, 624, 132, 60, 13, 58, 973, 66, 52, 136, 73, 78, 134, 73, 208, 14, 139, 108, 181, 168, 229, 247, 48, 172, 456, 78, 58, 98, 12, 5, 40, 209, 131, 160, 328, 100, 8, 60, 150, 142, 86, 96, 81, 273, 70, 218, 44, 12, 59, 11, 11, 102, 77, 246, 5, 374, 180, 137, 42, 15, 230, 71, 64, 307, 70, 125, 5, 109, 107, 12, 42, 71, 122, 67, 12, 387]\n"
     ]
    },
    {
     "data": {
      "image/png": "[encoded data removed]",
      "text/plain": [
       "<Figure size 640x480 with 3 Axes>"
      ]
     },
     "metadata": {},
     "output_type": "display_data"
    }
   ],
   "source": [
    "import os\n",
    "from matplotlib import pyplot as plt\n",
    " \n",
    "lenHero = []\n",
    "lenAmbig = []\n",
    "lenVillan = []\n",
    "\n",
    "for filename in os.listdir('Superheroes'):\n",
    "    with open(f'Superheroes/{filename}',\"r\") as f:\n",
    "        lenHero.append((len(f.readlines())))\n",
    "for filename in os.listdir('Supervillans'):\n",
    "    with open(f'Supervillans/{filename}',\"r\") as f:\n",
    "        lenVillan.append((len(f.readlines())))\n",
    "\n",
    "for filename in os.listdir('Ambiguous'):\n",
    "    with open(f'Ambiguous/{filename}',\"r\") as f:\n",
    "        lenAmbig.append((len(f.readlines())))\n",
    "        \n",
    "print(lenHero)\n",
    "plt.subplot(1,3,1)\n",
    "plt.hist(lenHero, density=True)\n",
    "plt.xlabel(\"Page Length of Character\")\n",
    "\n",
    "plt.subplot(1,3,2)\n",
    "plt.hist(lenVillan, density=True, color = \"green\")\n",
    "plt.xlabel(\"Page Length of Character\")\n",
    "\n",
    "plt.subplot(1,3,3)\n",
    "plt.hist(lenAmbig, density=True, color=\"red\")\n",
    "plt.xlabel(\"Page Length of Character\")\n",
    "\n",
    "\n",
    "plt.subplots_adjust(left=0.1,\n",
    "                    bottom=0.1,\n",
    "                    right=0.9,\n",
    "                    top=0.9,\n",
    "                    wspace=0.4,\n",
    "                    hspace=0.4)\n",
    "\n",
    "plt.show()"
   ]
  },
  {
   "cell_type": "markdown",
   "metadata": {
    "id": "pIUNMdBfN_fi"
   },
   "source": [
    "3.2.1 **Explanation:**\n",
    "We can see from the bar graphs that ambiguous characters do tend to have slightly larger pages, which probably either means that they are more popular or it just takes more words to explain their ambiguous background. As far as popularity, it is hard to determine but we can defenitly see that some chracters are vastly more popular than other, just based on how much information they have on them expressed as page lengths."
   ]
  },
  {
   "cell_type": "markdown",
   "metadata": {
    "id": "H6A9SMwpae60"
   },
   "source": [
    ">**Ex. 3.2.3**: In this exercise you want to find out the biggest alliances in the Marvel universe and their members. The data that will help you in doing this is in the *alliances*-field of the markup of each character -- open up a couple of character files and look for that field; get a sense for how the information is stored so that you can then write code to retreave it. Below I suggest steps you can take to solve the problem if you get stuck.\n",
    "* Use the regular expression `alliances[\\w\\W]+?\\n` to extract the *alliances*-field of a character's markup.\n",
    "* Use the regular expression `\\[\\[.+?[\\]\\|]` to extract links (i.e. each team) from the *alliance*-field.\n",
    "* You want to store alliance names and the corresponding members (hint: use a `defaultdict`).\n",
    "* Inspect your team names. Are there any that result from inconsistencies in the information on the pages? How do you deal with this?\n",
    "* **Print the 10 largest alliances and their number of members.**"
   ]
  },
  {
   "cell_type": "markdown",
   "metadata": {
    "id": "xBRY-s-8S3xU"
   },
   "source": [
    "3.2.3 **SOLUTIONS**"
   ]
  },
  {
   "cell_type": "code",
   "execution_count": 17,
   "metadata": {
    "id": "RZr2Z4z3S9Di"
   },
   "outputs": [
    {
     "name": "stdout",
     "output_type": "stream",
     "text": [
      "10 Largest Alliances:\n",
      "Thunderbolts (comics) has 61 members\n",
      "Masters of Evil has 55 members\n",
      "Avengers (comics) has 49 members\n",
      "S.H.I.E.L.D. has 37 members\n",
      "Lethal Legion has 36 members\n",
      "Defenders (comics) has 34 members\n",
      "Sinister Six has 33 members\n",
      "X-Men has 27 members\n",
      "Maggia (comics) has 27 members\n",
      "Hydra (comics) has 25 members\n"
     ]
    }
   ],
   "source": [
    "import re\n",
    "\n",
    "from collections import defaultdict\n",
    "\n",
    "\n",
    "allianceDict = defaultdict(lambda: 0)\n",
    "\n",
    "for filename in os.listdir('Superheroes'):\n",
    "    with open(f'Superheroes/{filename}',\"r\") as f:\n",
    "        markup = f.read()\n",
    "        alliances_field = re.findall(r\"alliances[\\w\\W]+?\\n\", markup)\n",
    "        for string in alliances_field:\n",
    "            alliances = re.findall(\"\\[\\[.+?[\\]\\|]\", string)\n",
    "            for alliance in alliances:\n",
    "                allianceDict[alliance[2:-1]] += 1\n",
    "    \n",
    "for filename in os.listdir('Supervillans'):\n",
    "    with open(f'Supervillans/{filename}',\"r\") as f:\n",
    "        markup = f.read()\n",
    "        alliances_field = re.findall(r\"alliances[\\w\\W]+?\\n\", markup)\n",
    "        for string in alliances_field:\n",
    "            alliances = re.findall(\"\\[\\[.+?[\\]\\|]\", string)\n",
    "            for alliance in alliances:\n",
    "                allianceDict[alliance[2:-1]] += 1    \n",
    "\n",
    "for filename in os.listdir('Ambiguous'):\n",
    "    with open(f'Ambiguous/{filename}',\"r\") as f:\n",
    "        markup = f.read()\n",
    "        alliances_field = re.findall(r\"alliances[\\w\\W]+?\\n\", markup)\n",
    "        for string in alliances_field:\n",
    "            alliances = re.findall(\"\\[\\[.+?[\\]\\|]\", string)\n",
    "            for alliance in alliances:\n",
    "                allianceDict[alliance[2:-1]] += 1    \n",
    "    \n",
    "    \n",
    "    \n",
    "largestAlliances = sorted(allianceDict, key=allianceDict.get, reverse=True)[:10]\n",
    "\n",
    "print(\"10 Largest Alliances:\")\n",
    "for items in largestAlliances:\n",
    "    print(f\"{items} has {allianceDict[items]} members\")"
   ]
  }
 ],
 "metadata": {
  "colab": {
   "provenance": []
  },
  "kernelspec": {
   "display_name": "Python 3 (ipykernel)",
   "language": "python",
   "name": "python3"
  },
  "language_info": {
   "codemirror_mode": {
    "name": "ipython",
    "version": 3
   },
   "file_extension": ".py",
   "mimetype": "text/x-python",
   "name": "python",
   "nbconvert_exporter": "python",
   "pygments_lexer": "ipython3",
   "version": "3.9.16"
  },
  "toc": {
   "base_numbering": 1,
   "nav_menu": {},
   "number_sections": true,
   "sideBar": true,
   "skip_h1_title": false,
   "title_cell": "Table of Contents",
   "title_sidebar": "Contents",
   "toc_cell": false,
   "toc_position": {},
   "toc_section_display": true,
   "toc_window_display": false
  },
  "varInspector": {
   "cols": {
    "lenName": 16,
    "lenType": 16,
    "lenVar": 40
   },
   "kernels_config": {
    "python": {
     "delete_cmd_postfix": "",
     "delete_cmd_prefix": "del ",
     "library": "var_list.py",
     "varRefreshCmd": "print(var_dic_list())"
    },
    "r": {
     "delete_cmd_postfix": ") ",
     "delete_cmd_prefix": "rm(",
     "library": "var_list.r",
     "varRefreshCmd": "cat(var_dic_list()) "
    }
   },
   "types_to_exclude": [
    "module",
    "function",
    "builtin_function_or_method",
    "instance",
    "_Feature"
   ],
   "window_display": false
  }
 },
 "nbformat": 4,
 "nbformat_minor": 1
}
